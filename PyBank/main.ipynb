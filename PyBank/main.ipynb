{
 "cells": [
  {
   "cell_type": "code",
   "execution_count": 23,
   "metadata": {},
   "outputs": [
    {
     "name": "stdout",
     "output_type": "stream",
     "text": [
      "Total Months = 86\n",
      "Total: $38382578\n",
      "Average Change: $-2315.12\n",
      "Greatest Increase in Profits: Feb-2012 ($1926159.0)\n",
      "Greatest Decrease in Profits: Sep-2013 ($-2196167.0)\n"
     ]
    }
   ],
   "source": [
    "import os\n",
    "import csv\n",
    "\n",
    "import pandas as pd\n",
    "import numpy as np\n",
    "\n",
    "\n",
    "csvpath = os.path.join ('..','PyBank','budget_data.csv')\n",
    "\n",
    "# Method 2: Improved Reading using CSV module\n",
    "\n",
    "with open(csvpath, newline='') as csvfile:\n",
    "\n",
    "    # CSV reader specifies delimiter and variable that holds contents\n",
    "    csvreader = csv.reader(csvfile, delimiter=',')\n",
    "\n",
    "    #print(csvreader)\n",
    "\n",
    "    # Read the header row first (skip this step if there is now header)\n",
    "    csv_header = next(csvreader)\n",
    "    #print(f\"CSV Header: {csv_header}\")\n",
    "\n",
    "    # Read each row of data after the header\n",
    "    #for row in csvreader:\n",
    "        #print(row)\n",
    "        \n",
    "#print(csvpath)\n",
    "df = pd.read_csv('budget_data.csv')\n",
    "\n",
    "#df['Date']\n",
    "#df.columns\n",
    "#df[['Date','Profit/Losses']]\n",
    "\n",
    "#df.iloc[5]\n",
    "\n",
    "#Number of unique elements\n",
    "TotalMonths = df['Date'].nunique()\n",
    "TM = (\"Total Months = \" + str(TotalMonths))\n",
    "\n",
    "sum = df['Profit/Losses'].sum()\n",
    "T = \"Total: $\" + str(sum)\n",
    "\n",
    "#The average of the changes in \"Profit/Losses\" over the entire period\n",
    "pl_diff = df['Profit/Losses'].diff()\n",
    "#print(pl_diff)\n",
    "\n",
    "#OR\n",
    "#pl - pl.shift(1)\n",
    "\n",
    "#OR\n",
    "#pl = df['Profit/Losses']\n",
    "\n",
    "\n",
    "avg_change = pl_diff.mean()  \n",
    "AC = \"Average Change: $\" + str(round(avg_change,2))\n",
    "\n",
    "#To get the percent change\n",
    "#pl.pct_change()\n",
    "\n",
    "#The greatest increase in profits (date and amount) over the entire period\n",
    "#Greatest Increase in Profits: Feb-2012 ($1926159)\n",
    "\n",
    "pl_max = pl_diff.max()\n",
    "\n",
    "pl_max_index = pl_diff[pl_diff == pl_diff.max()].index.values\n",
    "#print(pl_max_index)\n",
    "pl_max_index_data = df[df.index == pl_max_index[0]]\n",
    "max_date = pl_max_index_data.iloc[0,0]\n",
    "\n",
    "GI = \"Greatest Increase in Profits: \" + max_date + \" ($\"+ str(pl_max) + \")\"\n",
    "\n",
    "\n",
    "\n",
    "#The greatest decrease in losses (date and amount) over the entire period\n",
    "#Greatest Decrease in Profits: Sep-2013 ($-2196167)\n",
    "pl_min = pl_diff.min()\n",
    "\n",
    "pl_min_index = pl_diff[pl_diff == pl_diff.min()].index.values\n",
    "#print(pl_max_index)\n",
    "pl_min_index_data = df[df.index == pl_min_index[0]]\n",
    "min_date = pl_min_index_data.iloc[0,0]\n",
    "\n",
    "GD = \"Greatest Decrease in Profits: \" + min_date + \" ($\"+ str(pl_min) + \")\"\n",
    "\n",
    "print(TM)\n",
    "print(T)\n",
    "print(AC)\n",
    "print(GI)\n",
    "print(GD)\n"
   ]
  },
  {
   "cell_type": "code",
   "execution_count": 41,
   "metadata": {},
   "outputs": [
    {
     "name": "stdout",
     "output_type": "stream",
     "text": [
      "<zip object at 0x11d60b888>\n"
     ]
    },
    {
     "ename": "TypeError",
     "evalue": "expected str, bytes or os.PathLike object, not _io.TextIOWrapper",
     "output_type": "error",
     "traceback": [
      "\u001b[0;31m---------------------------------------------------------------------------\u001b[0m",
      "\u001b[0;31mTypeError\u001b[0m                                 Traceback (most recent call last)",
      "\u001b[0;32m<ipython-input-41-c149390a1341>\u001b[0m in \u001b[0;36m<module>\u001b[0;34m\u001b[0m\n\u001b[1;32m      2\u001b[0m \u001b[0mprint\u001b[0m\u001b[0;34m(\u001b[0m\u001b[0mempdb\u001b[0m\u001b[0;34m)\u001b[0m\u001b[0;34m\u001b[0m\u001b[0;34m\u001b[0m\u001b[0m\n\u001b[1;32m      3\u001b[0m \u001b[0mfile\u001b[0m \u001b[0;34m=\u001b[0m \u001b[0mopen\u001b[0m\u001b[0;34m(\u001b[0m\u001b[0;34m\"PyBank_HW.txt\"\u001b[0m\u001b[0;34m,\u001b[0m \u001b[0;34m\"w\"\u001b[0m\u001b[0;34m)\u001b[0m\u001b[0;34m\u001b[0m\u001b[0;34m\u001b[0m\u001b[0m\n\u001b[0;32m----> 4\u001b[0;31m \u001b[0;32mwith\u001b[0m \u001b[0mopen\u001b[0m\u001b[0;34m(\u001b[0m\u001b[0mfile\u001b[0m\u001b[0;34m,\u001b[0m \u001b[0;34m\"w\"\u001b[0m\u001b[0;34m,\u001b[0m \u001b[0mnewline\u001b[0m\u001b[0;34m=\u001b[0m\u001b[0;34m\"\"\u001b[0m\u001b[0;34m)\u001b[0m \u001b[0;32mas\u001b[0m \u001b[0mdatafile\u001b[0m\u001b[0;34m:\u001b[0m\u001b[0;34m\u001b[0m\u001b[0;34m\u001b[0m\u001b[0m\n\u001b[0m\u001b[1;32m      5\u001b[0m     \u001b[0mwriter\u001b[0m \u001b[0;34m=\u001b[0m \u001b[0mcsv\u001b[0m\u001b[0;34m.\u001b[0m\u001b[0mwriter\u001b[0m\u001b[0;34m(\u001b[0m\u001b[0mdatafile\u001b[0m\u001b[0;34m)\u001b[0m\u001b[0;34m\u001b[0m\u001b[0;34m\u001b[0m\u001b[0m\n\u001b[1;32m      6\u001b[0m     \u001b[0;31m#writer.writerow([\"Emp ID\", \"First Name\", \"Last Name\",\u001b[0m\u001b[0;34m\u001b[0m\u001b[0;34m\u001b[0m\u001b[0;34m\u001b[0m\u001b[0m\n",
      "\u001b[0;31mTypeError\u001b[0m: expected str, bytes or os.PathLike object, not _io.TextIOWrapper"
     ]
    }
   ],
   "source": [
    "empdb = zip(TM, T, AC, GI, GD)\n",
    "print(empdb)\n",
    "file = open(\"PyBank_HW.txt\", \"w\") \n",
    "with open(file, \"w\", newline=\"\") as datafile:\n",
    "    writer = csv.writer(datafile)\n",
    "    #writer.writerow([\"Emp ID\", \"First Name\", \"Last Name\",\n",
    "    #                \"DOB\", \"SSN\", \"State\"])\n",
    "    writer.writerows(empdb)\n",
    "file.close() "
   ]
  },
  {
   "cell_type": "code",
   "execution_count": 38,
   "metadata": {},
   "outputs": [
    {
     "ename": "NameError",
     "evalue": "name 'empbd' is not defined",
     "output_type": "error",
     "traceback": [
      "\u001b[0;31m---------------------------------------------------------------------------\u001b[0m",
      "\u001b[0;31mNameError\u001b[0m                                 Traceback (most recent call last)",
      "\u001b[0;32m<ipython-input-38-d218b0f211ee>\u001b[0m in \u001b[0;36m<module>\u001b[0;34m\u001b[0m\n\u001b[1;32m      1\u001b[0m \u001b[0mfile\u001b[0m \u001b[0;34m=\u001b[0m \u001b[0mopen\u001b[0m\u001b[0;34m(\u001b[0m\u001b[0;34m\"PyBank_HW.txt\"\u001b[0m\u001b[0;34m,\u001b[0m \u001b[0;34m\"w\"\u001b[0m\u001b[0;34m)\u001b[0m\u001b[0;34m\u001b[0m\u001b[0;34m\u001b[0m\u001b[0m\n\u001b[0;32m----> 2\u001b[0;31m \u001b[0mfile\u001b[0m\u001b[0;34m.\u001b[0m\u001b[0mwrite\u001b[0m\u001b[0;34m(\u001b[0m\u001b[0mempbd\u001b[0m\u001b[0;34m)\u001b[0m\u001b[0;34m\u001b[0m\u001b[0;34m\u001b[0m\u001b[0m\n\u001b[0m\u001b[1;32m      3\u001b[0m \u001b[0mfile\u001b[0m\u001b[0;34m.\u001b[0m\u001b[0mclose\u001b[0m\u001b[0;34m(\u001b[0m\u001b[0;34m)\u001b[0m\u001b[0;34m\u001b[0m\u001b[0;34m\u001b[0m\u001b[0m\n",
      "\u001b[0;31mNameError\u001b[0m: name 'empbd' is not defined"
     ]
    }
   ],
   "source": []
  },
  {
   "cell_type": "code",
   "execution_count": 33,
   "metadata": {},
   "outputs": [
    {
     "ename": "NameError",
     "evalue": "name 'empbd' is not defined",
     "output_type": "error",
     "traceback": [
      "\u001b[0;31m---------------------------------------------------------------------------\u001b[0m",
      "\u001b[0;31mNameError\u001b[0m                                 Traceback (most recent call last)",
      "\u001b[0;32m<ipython-input-33-b998e83b579b>\u001b[0m in \u001b[0;36m<module>\u001b[0;34m\u001b[0m\n\u001b[1;32m      1\u001b[0m \u001b[0mfile\u001b[0m \u001b[0;34m=\u001b[0m \u001b[0mopen\u001b[0m\u001b[0;34m(\u001b[0m\u001b[0;34m\"PyBank_HW.txt\"\u001b[0m\u001b[0;34m,\u001b[0m \u001b[0;34m\"w\"\u001b[0m\u001b[0;34m)\u001b[0m\u001b[0;34m\u001b[0m\u001b[0;34m\u001b[0m\u001b[0m\n\u001b[0;32m----> 2\u001b[0;31m \u001b[0mfile\u001b[0m\u001b[0;34m.\u001b[0m\u001b[0mwrite\u001b[0m\u001b[0;34m(\u001b[0m\u001b[0mempbd\u001b[0m\u001b[0;34m)\u001b[0m\u001b[0;34m\u001b[0m\u001b[0;34m\u001b[0m\u001b[0m\n\u001b[0m\u001b[1;32m      3\u001b[0m \u001b[0mfile\u001b[0m\u001b[0;34m.\u001b[0m\u001b[0mclose\u001b[0m\u001b[0;34m(\u001b[0m\u001b[0;34m)\u001b[0m\u001b[0;34m\u001b[0m\u001b[0;34m\u001b[0m\u001b[0m\n\u001b[1;32m      4\u001b[0m \u001b[0;34m\u001b[0m\u001b[0m\n\u001b[1;32m      5\u001b[0m \u001b[0;34m\u001b[0m\u001b[0m\n",
      "\u001b[0;31mNameError\u001b[0m: name 'empbd' is not defined"
     ]
    }
   ],
   "source": [
    "file_to_output = os.path.join(\"Resources\", \"PyBank_HW.txt\")\n",
    "with open(file_to_output, \"w\", newline=\"\") as datafile:\n",
    "    writer = csv.writer(datafile)\n",
    "    #writer.writerow([\"Emp ID\", \"First Name\", \"Last Name\",\n",
    "    #                \"DOB\", \"SSN\", \"State\"])\n",
    "    writer.writerows(empdb)"
   ]
  },
  {
   "cell_type": "code",
   "execution_count": null,
   "metadata": {},
   "outputs": [],
   "source": []
  },
  {
   "cell_type": "code",
   "execution_count": 31,
   "metadata": {},
   "outputs": [
    {
     "ename": "SyntaxError",
     "evalue": "invalid syntax (<ipython-input-31-605bcddcd5f7>, line 1)",
     "output_type": "error",
     "traceback": [
      "\u001b[0;36m  File \u001b[0;32m\"<ipython-input-31-605bcddcd5f7>\"\u001b[0;36m, line \u001b[0;32m1\u001b[0m\n\u001b[0;31m    touch PyBank_HW.txt\u001b[0m\n\u001b[0m                  ^\u001b[0m\n\u001b[0;31mSyntaxError\u001b[0m\u001b[0;31m:\u001b[0m invalid syntax\n"
     ]
    }
   ],
   "source": []
  },
  {
   "cell_type": "code",
   "execution_count": null,
   "metadata": {},
   "outputs": [],
   "source": []
  }
 ],
 "metadata": {
  "kernelspec": {
   "display_name": "Python 3",
   "language": "python",
   "name": "python3"
  },
  "language_info": {
   "codemirror_mode": {
    "name": "ipython",
    "version": 3
   },
   "file_extension": ".py",
   "mimetype": "text/x-python",
   "name": "python",
   "nbconvert_exporter": "python",
   "pygments_lexer": "ipython3",
   "version": "3.7.3"
  }
 },
 "nbformat": 4,
 "nbformat_minor": 4
}
