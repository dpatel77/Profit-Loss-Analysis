{
 "cells": [
  {
   "cell_type": "code",
   "execution_count": 1,
   "metadata": {},
   "outputs": [
    {
     "name": "stdout",
     "output_type": "stream",
     "text": [
      "Total Votes: 3521001\n",
      "0      Khan:  63.0% (2218231)\n",
      "1     Correy:  20.0% (704200)\n",
      "2         Li:  14.0% (492940)\n",
      "3    O'Tooley:  3.0% (105630)\n",
      "dtype: object\n",
      "Winner: Khan\n"
     ]
    }
   ],
   "source": [
    "import os\n",
    "import csv\n",
    "\n",
    "import pandas as pd\n",
    "import numpy as np\n",
    "\n",
    "\n",
    "csvpath = os.path.join ('..','PyPoll','election_data.csv')\n",
    "\n",
    "# Method 2: Improved Reading using CSV module\n",
    "\n",
    "with open(csvpath, newline='') as csvfile:\n",
    "\n",
    "    # CSV reader specifies delimiter and variable that holds contents\n",
    "    csvreader = csv.reader(csvfile, delimiter=',')\n",
    "\n",
    "    #print(csvreader)\n",
    "\n",
    "    # Read the header row first (skip this step if there is now header)\n",
    "    csv_header = next(csvreader)\n",
    "    #print(f\"CSV Header: {csv_header}\")\n",
    "\n",
    "    # Read each row of data after the header\n",
    "    #for row in csvreader:\n",
    "        #print(row)\n",
    "        \n",
    "#print(csvpath)\n",
    "df = pd.read_csv('election_data.csv')\n",
    "#print(df)\n",
    "\n",
    "#The total number of votes cast\n",
    "Votes = df['Voter ID'].nunique()\n",
    "V = (\"Total Votes: \" + str(Votes))\n",
    "print(V)\n",
    "\n",
    "#The total number of votes each candidate won\n",
    "group_voter_count = pd.DataFrame(df['Candidate'].value_counts())\n",
    "#group_voter_count.head()\n",
    "\n",
    "\n",
    "#group_voter_count.index\n",
    "\n",
    "#The percentage of votes each candidate won\n",
    "group_voter_per = pd.DataFrame(df['Candidate'].value_counts(normalize=True).mul(100).round(3).astype(str) + '%')\n",
    "#group_voter_per.head()\n",
    "\n",
    "#group_voter_per.index\n",
    "\n",
    "result = pd.merge(group_voter_per\n",
    "                 ,group_voter_count\n",
    "                 , how='left',on=group_voter_per.index)\n",
    "\n",
    "df_combined = result['key_0'].map(str) + ':  ' + result['Candidate_x'].map(str) + ' (' + result['Candidate_y'].map(str) + ')'  \n",
    "print (df_combined)\n",
    "\n",
    "# The winner of the election based on popular vote.\n",
    "result.sort_values(by='Candidate_x', ascending=False)\n",
    "\n",
    " # Election Results\n",
    "  #Total Votes: 3521001\n",
    "#  -------------------------\n",
    " # Khan: 63.000% (2218231)\n",
    " # Correy: 20.000% (704200)\n",
    " # Li: 14.000% (492940)\n",
    " # O'Tooley: 3.000% (105630)\n",
    " # -------------------------\n",
    " # Winner: Khan\n",
    " # -------------------------\n",
    "\n",
    "print(\"Winner: \" + result.iloc[0,0])\n",
    "\n"
   ]
  },
  {
   "cell_type": "code",
   "execution_count": null,
   "metadata": {},
   "outputs": [],
   "source": []
  }
 ],
 "metadata": {
  "kernelspec": {
   "display_name": "Python 3",
   "language": "python",
   "name": "python3"
  },
  "language_info": {
   "codemirror_mode": {
    "name": "ipython",
    "version": 3
   },
   "file_extension": ".py",
   "mimetype": "text/x-python",
   "name": "python",
   "nbconvert_exporter": "python",
   "pygments_lexer": "ipython3",
   "version": "3.7.3"
  }
 },
 "nbformat": 4,
 "nbformat_minor": 4
}
